{
 "cells": [
  {
   "cell_type": "code",
   "execution_count": 162,
   "id": "724e824d-18ea-4a72-827b-e5b532690d40",
   "metadata": {},
   "outputs": [],
   "source": [
    "import pandas as pd\n",
    "import numpy as np\n",
    "import matplotlib.pyplot as plt\n",
    "import sklearn\n",
    "# import seaborn as sns"
   ]
  },
  {
   "cell_type": "code",
   "execution_count": 2,
   "id": "b0bd7f96-b95e-4e20-97d5-d778724bec87",
   "metadata": {},
   "outputs": [],
   "source": [
    "data = pd.read_csv('./CleanedDataset.csv')"
   ]
  },
  {
   "cell_type": "code",
   "execution_count": 3,
   "id": "6b3181a7-5504-4db7-8166-2c58d05ea1a9",
   "metadata": {},
   "outputs": [
    {
     "data": {
      "text/html": [
       "<div>\n",
       "<style scoped>\n",
       "    .dataframe tbody tr th:only-of-type {\n",
       "        vertical-align: middle;\n",
       "    }\n",
       "\n",
       "    .dataframe tbody tr th {\n",
       "        vertical-align: top;\n",
       "    }\n",
       "\n",
       "    .dataframe thead th {\n",
       "        text-align: right;\n",
       "    }\n",
       "</style>\n",
       "<table border=\"1\" class=\"dataframe\">\n",
       "  <thead>\n",
       "    <tr style=\"text-align: right;\">\n",
       "      <th></th>\n",
       "      <th>last_updated</th>\n",
       "      <th>tweet_id</th>\n",
       "      <th>created_at</th>\n",
       "      <th>full_text</th>\n",
       "      <th>processed_tweet</th>\n",
       "      <th>Party</th>\n",
       "      <th>quote_count</th>\n",
       "      <th>reply_count</th>\n",
       "      <th>retweet_count</th>\n",
       "      <th>Importance</th>\n",
       "      <th>...</th>\n",
       "      <th>Neutral</th>\n",
       "      <th>Positive</th>\n",
       "      <th>Negative</th>\n",
       "      <th>Compound</th>\n",
       "      <th>hashtags</th>\n",
       "      <th>user_mentions_screen_name</th>\n",
       "      <th>City</th>\n",
       "      <th>State</th>\n",
       "      <th>Country</th>\n",
       "      <th>Score</th>\n",
       "    </tr>\n",
       "  </thead>\n",
       "  <tbody>\n",
       "    <tr>\n",
       "      <th>0</th>\n",
       "      <td>2019-02-08 17:29:00</td>\n",
       "      <td>1.090000e+18</td>\n",
       "      <td>2019-02-08 17:28:00</td>\n",
       "      <td>@DasComrade Sir any comment on modi's grand en...</td>\n",
       "      <td>dascomrad sir comment modi grand entri</td>\n",
       "      <td>BJP</td>\n",
       "      <td>0.0</td>\n",
       "      <td>0.0</td>\n",
       "      <td>1.0</td>\n",
       "      <td>0</td>\n",
       "      <td>...</td>\n",
       "      <td>0.625</td>\n",
       "      <td>0.375</td>\n",
       "      <td>0.000</td>\n",
       "      <td>0.4588</td>\n",
       "      <td>NaN</td>\n",
       "      <td>DasComrade</td>\n",
       "      <td>Guwahati</td>\n",
       "      <td>Assam</td>\n",
       "      <td>India</td>\n",
       "      <td>0.045645</td>\n",
       "    </tr>\n",
       "    <tr>\n",
       "      <th>1</th>\n",
       "      <td>2019-02-08 17:29:00</td>\n",
       "      <td>1.090000e+18</td>\n",
       "      <td>2019-02-07 05:10:00</td>\n",
       "      <td>Congress made Vemula national talking point ev...</td>\n",
       "      <td>congress made vemula nation talk point even th...</td>\n",
       "      <td>BJP</td>\n",
       "      <td>47.0</td>\n",
       "      <td>72.0</td>\n",
       "      <td>2353.0</td>\n",
       "      <td>1</td>\n",
       "      <td>...</td>\n",
       "      <td>0.868</td>\n",
       "      <td>0.000</td>\n",
       "      <td>0.132</td>\n",
       "      <td>-0.5719</td>\n",
       "      <td>NaN</td>\n",
       "      <td>NaN</td>\n",
       "      <td>Mumbai</td>\n",
       "      <td>Maharashtra</td>\n",
       "      <td>India</td>\n",
       "      <td>108.990410</td>\n",
       "    </tr>\n",
       "    <tr>\n",
       "      <th>2</th>\n",
       "      <td>2019-02-08 17:30:00</td>\n",
       "      <td>1.090000e+18</td>\n",
       "      <td>2019-02-08 10:18:00</td>\n",
       "      <td>BJP has been winning battles over the past mon...</td>\n",
       "      <td>bjp win battl past month bengal pm modi arriv ...</td>\n",
       "      <td>BJP</td>\n",
       "      <td>1.0</td>\n",
       "      <td>12.0</td>\n",
       "      <td>513.0</td>\n",
       "      <td>1</td>\n",
       "      <td>...</td>\n",
       "      <td>0.582</td>\n",
       "      <td>0.276</td>\n",
       "      <td>0.142</td>\n",
       "      <td>0.5719</td>\n",
       "      <td>NaN</td>\n",
       "      <td>NaN</td>\n",
       "      <td>Kolkata</td>\n",
       "      <td>West Bengal</td>\n",
       "      <td>India</td>\n",
       "      <td>24.487725</td>\n",
       "    </tr>\n",
       "    <tr>\n",
       "      <th>3</th>\n",
       "      <td>2019-02-08 17:30:00</td>\n",
       "      <td>1.090000e+18</td>\n",
       "      <td>2019-02-08 17:29:00</td>\n",
       "      <td>@inclusivemind2 @Ark82876233 @BJP4India @Rahul...</td>\n",
       "      <td>inclusivemind ark bjpindia rahul gandhi bjp th...</td>\n",
       "      <td>Other</td>\n",
       "      <td>0.0</td>\n",
       "      <td>0.0</td>\n",
       "      <td>2.0</td>\n",
       "      <td>0</td>\n",
       "      <td>...</td>\n",
       "      <td>0.884</td>\n",
       "      <td>0.116</td>\n",
       "      <td>0.000</td>\n",
       "      <td>0.4404</td>\n",
       "      <td>NaN</td>\n",
       "      <td>inclusivemind2,Ark82876233,BJP4India,RahulGandhi</td>\n",
       "      <td>Aligarh</td>\n",
       "      <td>Uttar Pradesh</td>\n",
       "      <td>India</td>\n",
       "      <td>0.091290</td>\n",
       "    </tr>\n",
       "    <tr>\n",
       "      <th>4</th>\n",
       "      <td>2019-02-08 17:30:00</td>\n",
       "      <td>1.090000e+18</td>\n",
       "      <td>2019-02-08 14:19:00</td>\n",
       "      <td>Senior Congress leader @ManishTewari : There w...</td>\n",
       "      <td>senior congress leader manishtewari jpc defini...</td>\n",
       "      <td>Congress</td>\n",
       "      <td>0.0</td>\n",
       "      <td>1.0</td>\n",
       "      <td>159.0</td>\n",
       "      <td>1</td>\n",
       "      <td>...</td>\n",
       "      <td>1.000</td>\n",
       "      <td>0.000</td>\n",
       "      <td>0.000</td>\n",
       "      <td>0.0000</td>\n",
       "      <td>NaN</td>\n",
       "      <td>ManishTewari</td>\n",
       "      <td>New Delhi</td>\n",
       "      <td>Delhi</td>\n",
       "      <td>India</td>\n",
       "      <td>8.263217</td>\n",
       "    </tr>\n",
       "  </tbody>\n",
       "</table>\n",
       "<p>5 rows × 21 columns</p>\n",
       "</div>"
      ],
      "text/plain": [
       "          last_updated      tweet_id           created_at  \\\n",
       "0  2019-02-08 17:29:00  1.090000e+18  2019-02-08 17:28:00   \n",
       "1  2019-02-08 17:29:00  1.090000e+18  2019-02-07 05:10:00   \n",
       "2  2019-02-08 17:30:00  1.090000e+18  2019-02-08 10:18:00   \n",
       "3  2019-02-08 17:30:00  1.090000e+18  2019-02-08 17:29:00   \n",
       "4  2019-02-08 17:30:00  1.090000e+18  2019-02-08 14:19:00   \n",
       "\n",
       "                                           full_text  \\\n",
       "0  @DasComrade Sir any comment on modi's grand en...   \n",
       "1  Congress made Vemula national talking point ev...   \n",
       "2  BJP has been winning battles over the past mon...   \n",
       "3  @inclusivemind2 @Ark82876233 @BJP4India @Rahul...   \n",
       "4  Senior Congress leader @ManishTewari : There w...   \n",
       "\n",
       "                                     processed_tweet     Party  quote_count  \\\n",
       "0             dascomrad sir comment modi grand entri       BJP          0.0   \n",
       "1  congress made vemula nation talk point even th...       BJP         47.0   \n",
       "2  bjp win battl past month bengal pm modi arriv ...       BJP          1.0   \n",
       "3  inclusivemind ark bjpindia rahul gandhi bjp th...     Other          0.0   \n",
       "4  senior congress leader manishtewari jpc defini...  Congress          0.0   \n",
       "\n",
       "   reply_count  retweet_count  Importance  ...  Neutral  Positive  Negative  \\\n",
       "0          0.0            1.0           0  ...    0.625     0.375     0.000   \n",
       "1         72.0         2353.0           1  ...    0.868     0.000     0.132   \n",
       "2         12.0          513.0           1  ...    0.582     0.276     0.142   \n",
       "3          0.0            2.0           0  ...    0.884     0.116     0.000   \n",
       "4          1.0          159.0           1  ...    1.000     0.000     0.000   \n",
       "\n",
       "   Compound  hashtags                         user_mentions_screen_name  \\\n",
       "0    0.4588       NaN                                        DasComrade   \n",
       "1   -0.5719       NaN                                               NaN   \n",
       "2    0.5719       NaN                                               NaN   \n",
       "3    0.4404       NaN  inclusivemind2,Ark82876233,BJP4India,RahulGandhi   \n",
       "4    0.0000       NaN                                      ManishTewari   \n",
       "\n",
       "        City          State Country       Score  \n",
       "0   Guwahati          Assam   India    0.045645  \n",
       "1     Mumbai    Maharashtra   India  108.990410  \n",
       "2    Kolkata    West Bengal   India   24.487725  \n",
       "3    Aligarh  Uttar Pradesh   India    0.091290  \n",
       "4  New Delhi          Delhi   India    8.263217  \n",
       "\n",
       "[5 rows x 21 columns]"
      ]
     },
     "execution_count": 3,
     "metadata": {},
     "output_type": "execute_result"
    }
   ],
   "source": [
    "data.head()"
   ]
  },
  {
   "cell_type": "code",
   "execution_count": 4,
   "id": "e6acecea-347b-4eb0-9dd1-65aa1d479148",
   "metadata": {},
   "outputs": [
    {
     "data": {
      "text/plain": [
       "Index(['last_updated', 'tweet_id', 'created_at', 'full_text',\n",
       "       'processed_tweet', 'Party', 'quote_count', 'reply_count',\n",
       "       'retweet_count', 'Importance', 'favorite_count', 'Neutral', 'Positive',\n",
       "       'Negative', 'Compound', 'hashtags', 'user_mentions_screen_name', 'City',\n",
       "       'State', 'Country', 'Score'],\n",
       "      dtype='object')"
      ]
     },
     "execution_count": 4,
     "metadata": {},
     "output_type": "execute_result"
    }
   ],
   "source": [
    "data.columns"
   ]
  },
  {
   "cell_type": "code",
   "execution_count": 5,
   "id": "6ca9c952-ec41-4bef-a169-a2cda8731441",
   "metadata": {},
   "outputs": [
    {
     "data": {
      "text/plain": [
       "last_updated                     0\n",
       "tweet_id                         0\n",
       "created_at                       0\n",
       "full_text                        0\n",
       "processed_tweet                  0\n",
       "Party                            0\n",
       "quote_count                      0\n",
       "reply_count                      0\n",
       "retweet_count                    0\n",
       "Importance                       0\n",
       "favorite_count                   0\n",
       "Neutral                          0\n",
       "Positive                         0\n",
       "Negative                         0\n",
       "Compound                         0\n",
       "hashtags                     31740\n",
       "user_mentions_screen_name    25080\n",
       "City                         24124\n",
       "State                        24124\n",
       "Country                          0\n",
       "Score                            0\n",
       "dtype: int64"
      ]
     },
     "execution_count": 5,
     "metadata": {},
     "output_type": "execute_result"
    }
   ],
   "source": [
    "data.isnull().sum()"
   ]
  },
  {
   "cell_type": "code",
   "execution_count": 6,
   "id": "29bd5289-373a-43b9-98d0-63f7400b0094",
   "metadata": {},
   "outputs": [
    {
     "name": "stdout",
     "output_type": "stream",
     "text": [
      "<class 'pandas.core.frame.DataFrame'>\n",
      "RangeIndex: 39874 entries, 0 to 39873\n",
      "Data columns (total 21 columns):\n",
      " #   Column                     Non-Null Count  Dtype  \n",
      "---  ------                     --------------  -----  \n",
      " 0   last_updated               39874 non-null  object \n",
      " 1   tweet_id                   39874 non-null  float64\n",
      " 2   created_at                 39874 non-null  object \n",
      " 3   full_text                  39874 non-null  object \n",
      " 4   processed_tweet            39874 non-null  object \n",
      " 5   Party                      39874 non-null  object \n",
      " 6   quote_count                39874 non-null  float64\n",
      " 7   reply_count                39874 non-null  float64\n",
      " 8   retweet_count              39874 non-null  float64\n",
      " 9   Importance                 39874 non-null  int64  \n",
      " 10  favorite_count             39874 non-null  int64  \n",
      " 11  Neutral                    39874 non-null  float64\n",
      " 12  Positive                   39874 non-null  float64\n",
      " 13  Negative                   39874 non-null  float64\n",
      " 14  Compound                   39874 non-null  float64\n",
      " 15  hashtags                   8134 non-null   object \n",
      " 16  user_mentions_screen_name  14794 non-null  object \n",
      " 17  City                       15750 non-null  object \n",
      " 18  State                      15750 non-null  object \n",
      " 19  Country                    39874 non-null  object \n",
      " 20  Score                      39874 non-null  float64\n",
      "dtypes: float64(9), int64(2), object(10)\n",
      "memory usage: 6.4+ MB\n"
     ]
    }
   ],
   "source": [
    "data.info();"
   ]
  },
  {
   "cell_type": "code",
   "execution_count": 10,
   "id": "0f0f1dee-ee35-452e-b9b4-db8a8626247a",
   "metadata": {},
   "outputs": [
    {
     "data": {
      "text/plain": [
       "0          0.0\n",
       "1         47.0\n",
       "2          1.0\n",
       "3          0.0\n",
       "4          0.0\n",
       "         ...  \n",
       "39869      0.0\n",
       "39870    156.0\n",
       "39871      0.0\n",
       "39872      7.0\n",
       "39873     50.0\n",
       "Name: quote_count, Length: 39874, dtype: float64"
      ]
     },
     "execution_count": 10,
     "metadata": {},
     "output_type": "execute_result"
    }
   ],
   "source": [
    "data['quote_count'] # THE NUMBER OF TIMES THE TWEET HAVE BEEN RE-TWEETED WITH A NEW COMMENT"
   ]
  },
  {
   "cell_type": "code",
   "execution_count": 11,
   "id": "ed1436bf-7708-4888-b67b-a10fdf7452c7",
   "metadata": {},
   "outputs": [
    {
     "data": {
      "text/plain": [
       "0            1\n",
       "1         2353\n",
       "2          513\n",
       "3            2\n",
       "4          159\n",
       "         ...  \n",
       "39869       18\n",
       "39870    16017\n",
       "39871       99\n",
       "39872      463\n",
       "39873      340\n",
       "Name: favorite_count, Length: 39874, dtype: int64"
      ]
     },
     "execution_count": 11,
     "metadata": {},
     "output_type": "execute_result"
    }
   ],
   "source": [
    "data['favorite_count'] # "
   ]
  },
  {
   "cell_type": "code",
   "execution_count": 14,
   "id": "c93f43cc-0cce-432a-b8b4-47b2fa22e561",
   "metadata": {},
   "outputs": [
    {
     "data": {
      "text/plain": [
       "0                                              DasComrade\n",
       "1                                                     NaN\n",
       "2                                                     NaN\n",
       "3        inclusivemind2,Ark82876233,BJP4India,RahulGandhi\n",
       "4                                            ManishTewari\n",
       "                               ...                       \n",
       "39869                                                 NaN\n",
       "39870                                                 NaN\n",
       "39871                                                 NaN\n",
       "39872                                            PMOIndia\n",
       "39873                                          IndiaToday\n",
       "Name: user_mentions_screen_name, Length: 39874, dtype: object"
      ]
     },
     "execution_count": 14,
     "metadata": {},
     "output_type": "execute_result"
    }
   ],
   "source": [
    "data['user_mentions_screen_name'] #SCREEN NAME MEANS USER NAME"
   ]
  },
  {
   "cell_type": "code",
   "execution_count": 19,
   "id": "ab1fbf0e-c65f-4e73-b138-a6137de26f9c",
   "metadata": {},
   "outputs": [
    {
     "data": {
      "text/plain": [
       "603"
      ]
     },
     "execution_count": 19,
     "metadata": {},
     "output_type": "execute_result"
    }
   ],
   "source": [
    "len(data['City'].unique())"
   ]
  },
  {
   "cell_type": "code",
   "execution_count": 21,
   "id": "79fe1c63-770b-4f6d-a865-c97e61c3bbed",
   "metadata": {},
   "outputs": [
    {
     "data": {
      "text/plain": [
       "array(['Assam', 'Maharashtra', 'West Bengal', 'Uttar Pradesh', 'Delhi',\n",
       "       nan, 'Gujarat', 'Tamil Nadu', 'Jharkhand', 'Kerala', 'Karnataka',\n",
       "       'Madhya Pradesh', 'Haryana', 'Chhattisgarh', 'Telangana', 'Punjab',\n",
       "       'Andhra Pradesh', 'Rajasthan', 'Jammu & Kashmir', 'Chandigarh',\n",
       "       'Daman & Diu', 'Goa', 'Uttaranchal', 'Pondicherry',\n",
       "       'Arunachal Pradesh', 'Nagaland', 'Andaman & Nicobar Islands',\n",
       "       'Bihar', 'Orissa', 'Mizoram', 'Manipur', 'Himachal Pradesh',\n",
       "       'Sikkim', 'Tripura', 'Meghalaya', 'Lakshadweep'], dtype=object)"
      ]
     },
     "execution_count": 21,
     "metadata": {},
     "output_type": "execute_result"
    }
   ],
   "source": [
    "len(data['State'].unique())\n",
    "data['State'].unique()"
   ]
  },
  {
   "cell_type": "code",
   "execution_count": 23,
   "id": "7e5a8f47-23af-4c64-a3a8-fd96dfe8793f",
   "metadata": {},
   "outputs": [
    {
     "data": {
      "text/plain": [
       "array(['India'], dtype=object)"
      ]
     },
     "execution_count": 23,
     "metadata": {},
     "output_type": "execute_result"
    }
   ],
   "source": [
    "data['Country'].unique()  # Not needed "
   ]
  },
  {
   "cell_type": "code",
   "execution_count": 24,
   "id": "8bc0c605-a7b8-4ea4-bef9-eb0844ce1d87",
   "metadata": {},
   "outputs": [
    {
     "data": {
      "text/plain": [
       "0          0.045645\n",
       "1        108.990410\n",
       "2         24.487725\n",
       "3          0.091290\n",
       "4          8.263217\n",
       "            ...    \n",
       "39869      0.827280\n",
       "39870    734.494352\n",
       "39871      5.518849\n",
       "39872     22.330475\n",
       "39873     17.799096\n",
       "Name: Score, Length: 39874, dtype: float64"
      ]
     },
     "execution_count": 24,
     "metadata": {},
     "output_type": "execute_result"
    }
   ],
   "source": [
    "data['Score']"
   ]
  },
  {
   "cell_type": "code",
   "execution_count": 36,
   "id": "884fac9c-9048-4aa0-a65b-5789b4528165",
   "metadata": {},
   "outputs": [],
   "source": [
    "string=data['full_text'][14]"
   ]
  },
  {
   "cell_type": "code",
   "execution_count": 37,
   "id": "6df56654-80c6-4aee-8c7f-523a631cb76f",
   "metadata": {},
   "outputs": [
    {
     "data": {
      "text/plain": [
       "'Rahul Gandhi ji, you used to claim that defence minister @manoharparrikar ji was completely ignored during #RafaleDeal then what is his noting doing on Rafale file? Another Lie Exposed!!!\\n#RahulLieCaught https://t.co/AhXoX1r3jt'"
      ]
     },
     "execution_count": 37,
     "metadata": {},
     "output_type": "execute_result"
    }
   ],
   "source": [
    "string"
   ]
  },
  {
   "cell_type": "code",
   "execution_count": 8,
   "id": "e1659322-88bc-49a5-94a3-3891b64a675e",
   "metadata": {},
   "outputs": [
    {
     "data": {
      "text/html": [
       "<div>\n",
       "<style scoped>\n",
       "    .dataframe tbody tr th:only-of-type {\n",
       "        vertical-align: middle;\n",
       "    }\n",
       "\n",
       "    .dataframe tbody tr th {\n",
       "        vertical-align: top;\n",
       "    }\n",
       "\n",
       "    .dataframe thead th {\n",
       "        text-align: right;\n",
       "    }\n",
       "</style>\n",
       "<table border=\"1\" class=\"dataframe\">\n",
       "  <thead>\n",
       "    <tr style=\"text-align: right;\">\n",
       "      <th></th>\n",
       "      <th>Neutral</th>\n",
       "      <th>Positive</th>\n",
       "      <th>Negative</th>\n",
       "      <th>Compound</th>\n",
       "    </tr>\n",
       "  </thead>\n",
       "  <tbody>\n",
       "    <tr>\n",
       "      <th>0</th>\n",
       "      <td>0.625</td>\n",
       "      <td>0.375</td>\n",
       "      <td>0.000</td>\n",
       "      <td>0.4588</td>\n",
       "    </tr>\n",
       "    <tr>\n",
       "      <th>1</th>\n",
       "      <td>0.868</td>\n",
       "      <td>0.000</td>\n",
       "      <td>0.132</td>\n",
       "      <td>-0.5719</td>\n",
       "    </tr>\n",
       "    <tr>\n",
       "      <th>2</th>\n",
       "      <td>0.582</td>\n",
       "      <td>0.276</td>\n",
       "      <td>0.142</td>\n",
       "      <td>0.5719</td>\n",
       "    </tr>\n",
       "    <tr>\n",
       "      <th>3</th>\n",
       "      <td>0.884</td>\n",
       "      <td>0.116</td>\n",
       "      <td>0.000</td>\n",
       "      <td>0.4404</td>\n",
       "    </tr>\n",
       "    <tr>\n",
       "      <th>4</th>\n",
       "      <td>1.000</td>\n",
       "      <td>0.000</td>\n",
       "      <td>0.000</td>\n",
       "      <td>0.0000</td>\n",
       "    </tr>\n",
       "    <tr>\n",
       "      <th>...</th>\n",
       "      <td>...</td>\n",
       "      <td>...</td>\n",
       "      <td>...</td>\n",
       "      <td>...</td>\n",
       "    </tr>\n",
       "    <tr>\n",
       "      <th>39869</th>\n",
       "      <td>0.751</td>\n",
       "      <td>0.083</td>\n",
       "      <td>0.165</td>\n",
       "      <td>-0.3887</td>\n",
       "    </tr>\n",
       "    <tr>\n",
       "      <th>39870</th>\n",
       "      <td>0.675</td>\n",
       "      <td>0.000</td>\n",
       "      <td>0.325</td>\n",
       "      <td>-0.8779</td>\n",
       "    </tr>\n",
       "    <tr>\n",
       "      <th>39871</th>\n",
       "      <td>0.625</td>\n",
       "      <td>0.375</td>\n",
       "      <td>0.000</td>\n",
       "      <td>0.1027</td>\n",
       "    </tr>\n",
       "    <tr>\n",
       "      <th>39872</th>\n",
       "      <td>0.500</td>\n",
       "      <td>0.345</td>\n",
       "      <td>0.155</td>\n",
       "      <td>0.5859</td>\n",
       "    </tr>\n",
       "    <tr>\n",
       "      <th>39873</th>\n",
       "      <td>0.877</td>\n",
       "      <td>0.123</td>\n",
       "      <td>0.000</td>\n",
       "      <td>0.5859</td>\n",
       "    </tr>\n",
       "  </tbody>\n",
       "</table>\n",
       "<p>39874 rows × 4 columns</p>\n",
       "</div>"
      ],
      "text/plain": [
       "       Neutral  Positive  Negative  Compound\n",
       "0        0.625     0.375     0.000    0.4588\n",
       "1        0.868     0.000     0.132   -0.5719\n",
       "2        0.582     0.276     0.142    0.5719\n",
       "3        0.884     0.116     0.000    0.4404\n",
       "4        1.000     0.000     0.000    0.0000\n",
       "...        ...       ...       ...       ...\n",
       "39869    0.751     0.083     0.165   -0.3887\n",
       "39870    0.675     0.000     0.325   -0.8779\n",
       "39871    0.625     0.375     0.000    0.1027\n",
       "39872    0.500     0.345     0.155    0.5859\n",
       "39873    0.877     0.123     0.000    0.5859\n",
       "\n",
       "[39874 rows x 4 columns]"
      ]
     },
     "execution_count": 8,
     "metadata": {},
     "output_type": "execute_result"
    }
   ],
   "source": [
    "data.iloc[:,11:15]"
   ]
  },
  {
   "cell_type": "code",
   "execution_count": 12,
   "id": "18225994-6dcc-4adc-a2f0-f2e8a322db29",
   "metadata": {},
   "outputs": [
    {
     "data": {
      "text/plain": [
       "\"A web page dedicated to tracking Rahul Gandhi's numerous lies. Because there are so many. Because we should never forget that Rahul Gandhi is a big fat liar. \\nhttps://t.co/5or6zmAZb6 https://t.co/Xy1JECP9Fw\""
      ]
     },
     "execution_count": 12,
     "metadata": {},
     "output_type": "execute_result"
    }
   ],
   "source": [
    "data['full_text'][39869]"
   ]
  },
  {
   "cell_type": "markdown",
   "id": "bc724e62-f17f-499f-bb5d-414916701afb",
   "metadata": {},
   "source": [
    "* So we will consider full texts only because then the processed ones are lossing their meaning\n",
    "* also compound score is important, so let's take analyse it first\n"
   ]
  },
  {
   "cell_type": "code",
   "execution_count": 23,
   "id": "01d3e737-7d83-4a71-950d-47136bc221fc",
   "metadata": {},
   "outputs": [],
   "source": [
    "ana1 = {'text':data['full_text'],'score':data['Compound']}"
   ]
  },
  {
   "cell_type": "code",
   "execution_count": 24,
   "id": "616647ab-ab78-4f28-989c-f39e03e47af8",
   "metadata": {},
   "outputs": [],
   "source": [
    "ana1 = pd.DataFrame(ana1)"
   ]
  },
  {
   "cell_type": "code",
   "execution_count": 25,
   "id": "dec05305-a5da-4483-addd-38644a0d8fd9",
   "metadata": {},
   "outputs": [
    {
     "data": {
      "text/html": [
       "<div>\n",
       "<style scoped>\n",
       "    .dataframe tbody tr th:only-of-type {\n",
       "        vertical-align: middle;\n",
       "    }\n",
       "\n",
       "    .dataframe tbody tr th {\n",
       "        vertical-align: top;\n",
       "    }\n",
       "\n",
       "    .dataframe thead th {\n",
       "        text-align: right;\n",
       "    }\n",
       "</style>\n",
       "<table border=\"1\" class=\"dataframe\">\n",
       "  <thead>\n",
       "    <tr style=\"text-align: right;\">\n",
       "      <th></th>\n",
       "      <th>text</th>\n",
       "      <th>score</th>\n",
       "    </tr>\n",
       "  </thead>\n",
       "  <tbody>\n",
       "    <tr>\n",
       "      <th>0</th>\n",
       "      <td>@DasComrade Sir any comment on modi's grand en...</td>\n",
       "      <td>0.4588</td>\n",
       "    </tr>\n",
       "    <tr>\n",
       "      <th>1</th>\n",
       "      <td>Congress made Vemula national talking point ev...</td>\n",
       "      <td>-0.5719</td>\n",
       "    </tr>\n",
       "    <tr>\n",
       "      <th>2</th>\n",
       "      <td>BJP has been winning battles over the past mon...</td>\n",
       "      <td>0.5719</td>\n",
       "    </tr>\n",
       "    <tr>\n",
       "      <th>3</th>\n",
       "      <td>@inclusivemind2 @Ark82876233 @BJP4India @Rahul...</td>\n",
       "      <td>0.4404</td>\n",
       "    </tr>\n",
       "    <tr>\n",
       "      <th>4</th>\n",
       "      <td>Senior Congress leader @ManishTewari : There w...</td>\n",
       "      <td>0.0000</td>\n",
       "    </tr>\n",
       "  </tbody>\n",
       "</table>\n",
       "</div>"
      ],
      "text/plain": [
       "                                                text   score\n",
       "0  @DasComrade Sir any comment on modi's grand en...  0.4588\n",
       "1  Congress made Vemula national talking point ev... -0.5719\n",
       "2  BJP has been winning battles over the past mon...  0.5719\n",
       "3  @inclusivemind2 @Ark82876233 @BJP4India @Rahul...  0.4404\n",
       "4  Senior Congress leader @ManishTewari : There w...  0.0000"
      ]
     },
     "execution_count": 25,
     "metadata": {},
     "output_type": "execute_result"
    }
   ],
   "source": [
    "ana1.head()"
   ]
  },
  {
   "cell_type": "code",
   "execution_count": 26,
   "id": "a64ab3ce-14e2-407b-b560-b4212b18f96f",
   "metadata": {},
   "outputs": [],
   "source": [
    "ana1.to_csv('./text-score.csv')"
   ]
  },
  {
   "cell_type": "markdown",
   "id": "396a531b-c453-443a-a760-27ab4887a82e",
   "metadata": {},
   "source": [
    "**Clearly all the data in `text-score.csv` file is suggesting that score is negative means hate possibility is high**\n",
    "* As a next step we will filter negative score compound `full_texts` from this dataset"
   ]
  },
  {
   "cell_type": "code",
   "execution_count": 37,
   "id": "f0e8d83d-414e-4673-9fb1-44e3ca97306b",
   "metadata": {},
   "outputs": [],
   "source": [
    "hate1 = data[data['Compound']<=0]"
   ]
  },
  {
   "cell_type": "code",
   "execution_count": 41,
   "id": "d5d24f7c-7f63-4f11-b33a-86da422257f6",
   "metadata": {},
   "outputs": [
    {
     "data": {
      "text/plain": [
       "24430"
      ]
     },
     "execution_count": 41,
     "metadata": {},
     "output_type": "execute_result"
    }
   ],
   "source": [
    "x=len(hate1)\n",
    "x"
   ]
  },
  {
   "cell_type": "code",
   "execution_count": 42,
   "id": "b81469fe-385b-4d0e-be42-5426343164e2",
   "metadata": {},
   "outputs": [
    {
     "data": {
      "text/plain": [
       "39874"
      ]
     },
     "execution_count": 42,
     "metadata": {},
     "output_type": "execute_result"
    }
   ],
   "source": [
    "y=len(data)\n",
    "y"
   ]
  },
  {
   "cell_type": "code",
   "execution_count": 43,
   "id": "63740675-4e79-4a5e-b54b-b2e116e01a41",
   "metadata": {},
   "outputs": [
    {
     "data": {
      "text/plain": [
       "15444"
      ]
     },
     "execution_count": 43,
     "metadata": {},
     "output_type": "execute_result"
    }
   ],
   "source": [
    "y-x"
   ]
  },
  {
   "cell_type": "markdown",
   "id": "c5a411b8-aacf-41aa-bf81-9ad89b71bdc7",
   "metadata": {},
   "source": [
    "* 15444 records have been removed"
   ]
  },
  {
   "cell_type": "code",
   "execution_count": 44,
   "id": "3de415d8-a818-4244-9bde-2214c66addef",
   "metadata": {},
   "outputs": [
    {
     "data": {
      "text/html": [
       "<div>\n",
       "<style scoped>\n",
       "    .dataframe tbody tr th:only-of-type {\n",
       "        vertical-align: middle;\n",
       "    }\n",
       "\n",
       "    .dataframe tbody tr th {\n",
       "        vertical-align: top;\n",
       "    }\n",
       "\n",
       "    .dataframe thead th {\n",
       "        text-align: right;\n",
       "    }\n",
       "</style>\n",
       "<table border=\"1\" class=\"dataframe\">\n",
       "  <thead>\n",
       "    <tr style=\"text-align: right;\">\n",
       "      <th></th>\n",
       "      <th>last_updated</th>\n",
       "      <th>tweet_id</th>\n",
       "      <th>created_at</th>\n",
       "      <th>full_text</th>\n",
       "      <th>processed_tweet</th>\n",
       "      <th>Party</th>\n",
       "      <th>quote_count</th>\n",
       "      <th>reply_count</th>\n",
       "      <th>retweet_count</th>\n",
       "      <th>Importance</th>\n",
       "      <th>...</th>\n",
       "      <th>Neutral</th>\n",
       "      <th>Positive</th>\n",
       "      <th>Negative</th>\n",
       "      <th>Compound</th>\n",
       "      <th>hashtags</th>\n",
       "      <th>user_mentions_screen_name</th>\n",
       "      <th>City</th>\n",
       "      <th>State</th>\n",
       "      <th>Country</th>\n",
       "      <th>Score</th>\n",
       "    </tr>\n",
       "  </thead>\n",
       "  <tbody>\n",
       "    <tr>\n",
       "      <th>1</th>\n",
       "      <td>2019-02-08 17:29:00</td>\n",
       "      <td>1.090000e+18</td>\n",
       "      <td>2019-02-07 05:10:00</td>\n",
       "      <td>Congress made Vemula national talking point ev...</td>\n",
       "      <td>congress made vemula nation talk point even th...</td>\n",
       "      <td>BJP</td>\n",
       "      <td>47.0</td>\n",
       "      <td>72.0</td>\n",
       "      <td>2353.0</td>\n",
       "      <td>1</td>\n",
       "      <td>...</td>\n",
       "      <td>0.868</td>\n",
       "      <td>0.0</td>\n",
       "      <td>0.132</td>\n",
       "      <td>-0.5719</td>\n",
       "      <td>NaN</td>\n",
       "      <td>NaN</td>\n",
       "      <td>Mumbai</td>\n",
       "      <td>Maharashtra</td>\n",
       "      <td>India</td>\n",
       "      <td>108.990410</td>\n",
       "    </tr>\n",
       "    <tr>\n",
       "      <th>4</th>\n",
       "      <td>2019-02-08 17:30:00</td>\n",
       "      <td>1.090000e+18</td>\n",
       "      <td>2019-02-08 14:19:00</td>\n",
       "      <td>Senior Congress leader @ManishTewari : There w...</td>\n",
       "      <td>senior congress leader manishtewari jpc defini...</td>\n",
       "      <td>Congress</td>\n",
       "      <td>0.0</td>\n",
       "      <td>1.0</td>\n",
       "      <td>159.0</td>\n",
       "      <td>1</td>\n",
       "      <td>...</td>\n",
       "      <td>1.000</td>\n",
       "      <td>0.0</td>\n",
       "      <td>0.000</td>\n",
       "      <td>0.0000</td>\n",
       "      <td>NaN</td>\n",
       "      <td>ManishTewari</td>\n",
       "      <td>New Delhi</td>\n",
       "      <td>Delhi</td>\n",
       "      <td>India</td>\n",
       "      <td>8.263217</td>\n",
       "    </tr>\n",
       "    <tr>\n",
       "      <th>5</th>\n",
       "      <td>2019-02-08 17:30:00</td>\n",
       "      <td>1.090000e+18</td>\n",
       "      <td>2019-02-08 15:13:00</td>\n",
       "      <td>Is it b/c there are those in congress taking k...</td>\n",
       "      <td>bc congress take kickback fr pp</td>\n",
       "      <td>Congress</td>\n",
       "      <td>0.0</td>\n",
       "      <td>2.0</td>\n",
       "      <td>34.0</td>\n",
       "      <td>0</td>\n",
       "      <td>...</td>\n",
       "      <td>1.000</td>\n",
       "      <td>0.0</td>\n",
       "      <td>0.000</td>\n",
       "      <td>0.0000</td>\n",
       "      <td>NaN</td>\n",
       "      <td>NaN</td>\n",
       "      <td>NaN</td>\n",
       "      <td>NaN</td>\n",
       "      <td>India</td>\n",
       "      <td>1.563270</td>\n",
       "    </tr>\n",
       "    <tr>\n",
       "      <th>6</th>\n",
       "      <td>2019-02-08 17:30:00</td>\n",
       "      <td>1.090000e+18</td>\n",
       "      <td>2019-02-08 09:16:00</td>\n",
       "      <td>#RahulLieCaught | EXCLUSIVE: Former Defence Se...</td>\n",
       "      <td>rahulliecaught exclus former defenc secretari ...</td>\n",
       "      <td>Congress</td>\n",
       "      <td>22.0</td>\n",
       "      <td>34.0</td>\n",
       "      <td>680.0</td>\n",
       "      <td>1</td>\n",
       "      <td>...</td>\n",
       "      <td>0.879</td>\n",
       "      <td>0.0</td>\n",
       "      <td>0.121</td>\n",
       "      <td>-0.2960</td>\n",
       "      <td>RahulLieCaught</td>\n",
       "      <td>NaN</td>\n",
       "      <td>Mumbai</td>\n",
       "      <td>Maharashtra</td>\n",
       "      <td>India</td>\n",
       "      <td>32.315419</td>\n",
       "    </tr>\n",
       "    <tr>\n",
       "      <th>7</th>\n",
       "      <td>2019-02-08 17:30:00</td>\n",
       "      <td>1.090000e+18</td>\n",
       "      <td>2019-02-07 13:44:00</td>\n",
       "      <td>Expect a meltdown in Congress before election....</td>\n",
       "      <td>expect meltdown congress elect wait till febru...</td>\n",
       "      <td>Congress</td>\n",
       "      <td>1.0</td>\n",
       "      <td>11.0</td>\n",
       "      <td>203.0</td>\n",
       "      <td>1</td>\n",
       "      <td>...</td>\n",
       "      <td>1.000</td>\n",
       "      <td>0.0</td>\n",
       "      <td>0.000</td>\n",
       "      <td>0.0000</td>\n",
       "      <td>NaN</td>\n",
       "      <td>NaN</td>\n",
       "      <td>NaN</td>\n",
       "      <td>NaN</td>\n",
       "      <td>India</td>\n",
       "      <td>10.332122</td>\n",
       "    </tr>\n",
       "  </tbody>\n",
       "</table>\n",
       "<p>5 rows × 21 columns</p>\n",
       "</div>"
      ],
      "text/plain": [
       "          last_updated      tweet_id           created_at  \\\n",
       "1  2019-02-08 17:29:00  1.090000e+18  2019-02-07 05:10:00   \n",
       "4  2019-02-08 17:30:00  1.090000e+18  2019-02-08 14:19:00   \n",
       "5  2019-02-08 17:30:00  1.090000e+18  2019-02-08 15:13:00   \n",
       "6  2019-02-08 17:30:00  1.090000e+18  2019-02-08 09:16:00   \n",
       "7  2019-02-08 17:30:00  1.090000e+18  2019-02-07 13:44:00   \n",
       "\n",
       "                                           full_text  \\\n",
       "1  Congress made Vemula national talking point ev...   \n",
       "4  Senior Congress leader @ManishTewari : There w...   \n",
       "5  Is it b/c there are those in congress taking k...   \n",
       "6  #RahulLieCaught | EXCLUSIVE: Former Defence Se...   \n",
       "7  Expect a meltdown in Congress before election....   \n",
       "\n",
       "                                     processed_tweet     Party  quote_count  \\\n",
       "1  congress made vemula nation talk point even th...       BJP         47.0   \n",
       "4  senior congress leader manishtewari jpc defini...  Congress          0.0   \n",
       "5                    bc congress take kickback fr pp  Congress          0.0   \n",
       "6  rahulliecaught exclus former defenc secretari ...  Congress         22.0   \n",
       "7  expect meltdown congress elect wait till febru...  Congress          1.0   \n",
       "\n",
       "   reply_count  retweet_count  Importance  ...  Neutral  Positive  Negative  \\\n",
       "1         72.0         2353.0           1  ...    0.868       0.0     0.132   \n",
       "4          1.0          159.0           1  ...    1.000       0.0     0.000   \n",
       "5          2.0           34.0           0  ...    1.000       0.0     0.000   \n",
       "6         34.0          680.0           1  ...    0.879       0.0     0.121   \n",
       "7         11.0          203.0           1  ...    1.000       0.0     0.000   \n",
       "\n",
       "   Compound        hashtags user_mentions_screen_name       City        State  \\\n",
       "1   -0.5719             NaN                       NaN     Mumbai  Maharashtra   \n",
       "4    0.0000             NaN              ManishTewari  New Delhi        Delhi   \n",
       "5    0.0000             NaN                       NaN        NaN          NaN   \n",
       "6   -0.2960  RahulLieCaught                       NaN     Mumbai  Maharashtra   \n",
       "7    0.0000             NaN                       NaN        NaN          NaN   \n",
       "\n",
       "  Country       Score  \n",
       "1   India  108.990410  \n",
       "4   India    8.263217  \n",
       "5   India    1.563270  \n",
       "6   India   32.315419  \n",
       "7   India   10.332122  \n",
       "\n",
       "[5 rows x 21 columns]"
      ]
     },
     "execution_count": 44,
     "metadata": {},
     "output_type": "execute_result"
    }
   ],
   "source": [
    "hate1.head()"
   ]
  },
  {
   "cell_type": "markdown",
   "id": "69f190ec-bf46-4d7e-9338-3a1443ab3999",
   "metadata": {},
   "source": [
    "* Now let's remove all the columns that would not be needed"
   ]
  },
  {
   "cell_type": "code",
   "execution_count": 45,
   "id": "ce375017-2c54-4484-bec9-bad532b4ce5a",
   "metadata": {
    "scrolled": true
   },
   "outputs": [
    {
     "data": {
      "text/plain": [
       "Index(['last_updated', 'tweet_id', 'created_at', 'full_text',\n",
       "       'processed_tweet', 'Party', 'quote_count', 'reply_count',\n",
       "       'retweet_count', 'Importance', 'favorite_count', 'Neutral', 'Positive',\n",
       "       'Negative', 'Compound', 'hashtags', 'user_mentions_screen_name', 'City',\n",
       "       'State', 'Country', 'Score'],\n",
       "      dtype='object')"
      ]
     },
     "execution_count": 45,
     "metadata": {},
     "output_type": "execute_result"
    }
   ],
   "source": [
    "hate1.columns"
   ]
  },
  {
   "cell_type": "code",
   "execution_count": null,
   "id": "10d75284-a1d7-4685-862e-457d3cf45e34",
   "metadata": {},
   "outputs": [],
   "source": []
  },
  {
   "cell_type": "code",
   "execution_count": 48,
   "id": "471b46da-4eb0-4ade-b833-60a8604df924",
   "metadata": {},
   "outputs": [
    {
     "name": "stderr",
     "output_type": "stream",
     "text": [
      "C:\\Users\\HP\\AppData\\Local\\Temp\\ipykernel_16376\\3462354977.py:1: SettingWithCopyWarning: \n",
      "A value is trying to be set on a copy of a slice from a DataFrame\n",
      "\n",
      "See the caveats in the documentation: https://pandas.pydata.org/pandas-docs/stable/user_guide/indexing.html#returning-a-view-versus-a-copy\n",
      "  hate1.drop(['tweet_id','processed_tweet','Neutral','Positive','Negative','City'],axis=1,inplace=True)\n"
     ]
    }
   ],
   "source": [
    "hate1.drop(['tweet_id','processed_tweet','Neutral','Positive','Negative','City'],axis=1,inplace=True)"
   ]
  },
  {
   "cell_type": "code",
   "execution_count": 73,
   "id": "63b090c6-fa17-4c21-afe1-165d9ed908b7",
   "metadata": {},
   "outputs": [
    {
     "data": {
      "text/plain": [
       "(24430, 15)"
      ]
     },
     "execution_count": 73,
     "metadata": {},
     "output_type": "execute_result"
    }
   ],
   "source": [
    "hate1.shape"
   ]
  },
  {
   "cell_type": "code",
   "execution_count": 74,
   "id": "d0dde780-4489-4ff4-880e-d3c8a562d576",
   "metadata": {},
   "outputs": [
    {
     "data": {
      "text/plain": [
       "Index(['last_updated', 'created_at', 'full_text', 'Party', 'quote_count',\n",
       "       'reply_count', 'retweet_count', 'Importance', 'favorite_count',\n",
       "       'Compound', 'hashtags', 'user_mentions_screen_name', 'State', 'Country',\n",
       "       'Score'],\n",
       "      dtype='object')"
      ]
     },
     "execution_count": 74,
     "metadata": {},
     "output_type": "execute_result"
    }
   ],
   "source": [
    "hate1.columns"
   ]
  },
  {
   "cell_type": "code",
   "execution_count": 75,
   "id": "8c8a277c-757f-4709-a6ea-c32d112f4718",
   "metadata": {},
   "outputs": [
    {
     "data": {
      "text/html": [
       "<div>\n",
       "<style scoped>\n",
       "    .dataframe tbody tr th:only-of-type {\n",
       "        vertical-align: middle;\n",
       "    }\n",
       "\n",
       "    .dataframe tbody tr th {\n",
       "        vertical-align: top;\n",
       "    }\n",
       "\n",
       "    .dataframe thead th {\n",
       "        text-align: right;\n",
       "    }\n",
       "</style>\n",
       "<table border=\"1\" class=\"dataframe\">\n",
       "  <thead>\n",
       "    <tr style=\"text-align: right;\">\n",
       "      <th></th>\n",
       "      <th>last_updated</th>\n",
       "      <th>created_at</th>\n",
       "      <th>full_text</th>\n",
       "      <th>Party</th>\n",
       "      <th>quote_count</th>\n",
       "      <th>reply_count</th>\n",
       "      <th>retweet_count</th>\n",
       "      <th>Importance</th>\n",
       "      <th>favorite_count</th>\n",
       "      <th>Compound</th>\n",
       "      <th>hashtags</th>\n",
       "      <th>user_mentions_screen_name</th>\n",
       "      <th>State</th>\n",
       "      <th>Country</th>\n",
       "      <th>Score</th>\n",
       "    </tr>\n",
       "  </thead>\n",
       "  <tbody>\n",
       "    <tr>\n",
       "      <th>1</th>\n",
       "      <td>2019-02-08 17:29:00</td>\n",
       "      <td>2019-02-07 05:10:00</td>\n",
       "      <td>Congress made Vemula national talking point ev...</td>\n",
       "      <td>BJP</td>\n",
       "      <td>47.0</td>\n",
       "      <td>72.0</td>\n",
       "      <td>2353.0</td>\n",
       "      <td>1</td>\n",
       "      <td>2353</td>\n",
       "      <td>-0.5719</td>\n",
       "      <td>NaN</td>\n",
       "      <td>NaN</td>\n",
       "      <td>Maharashtra</td>\n",
       "      <td>India</td>\n",
       "      <td>108.990410</td>\n",
       "    </tr>\n",
       "    <tr>\n",
       "      <th>4</th>\n",
       "      <td>2019-02-08 17:30:00</td>\n",
       "      <td>2019-02-08 14:19:00</td>\n",
       "      <td>Senior Congress leader @ManishTewari : There w...</td>\n",
       "      <td>Congress</td>\n",
       "      <td>0.0</td>\n",
       "      <td>1.0</td>\n",
       "      <td>159.0</td>\n",
       "      <td>1</td>\n",
       "      <td>159</td>\n",
       "      <td>0.0000</td>\n",
       "      <td>NaN</td>\n",
       "      <td>ManishTewari</td>\n",
       "      <td>Delhi</td>\n",
       "      <td>India</td>\n",
       "      <td>8.263217</td>\n",
       "    </tr>\n",
       "    <tr>\n",
       "      <th>5</th>\n",
       "      <td>2019-02-08 17:30:00</td>\n",
       "      <td>2019-02-08 15:13:00</td>\n",
       "      <td>Is it b/c there are those in congress taking k...</td>\n",
       "      <td>Congress</td>\n",
       "      <td>0.0</td>\n",
       "      <td>2.0</td>\n",
       "      <td>34.0</td>\n",
       "      <td>0</td>\n",
       "      <td>34</td>\n",
       "      <td>0.0000</td>\n",
       "      <td>NaN</td>\n",
       "      <td>NaN</td>\n",
       "      <td>NaN</td>\n",
       "      <td>India</td>\n",
       "      <td>1.563270</td>\n",
       "    </tr>\n",
       "    <tr>\n",
       "      <th>6</th>\n",
       "      <td>2019-02-08 17:30:00</td>\n",
       "      <td>2019-02-08 09:16:00</td>\n",
       "      <td>#RahulLieCaught | EXCLUSIVE: Former Defence Se...</td>\n",
       "      <td>Congress</td>\n",
       "      <td>22.0</td>\n",
       "      <td>34.0</td>\n",
       "      <td>680.0</td>\n",
       "      <td>1</td>\n",
       "      <td>680</td>\n",
       "      <td>-0.2960</td>\n",
       "      <td>RahulLieCaught</td>\n",
       "      <td>NaN</td>\n",
       "      <td>Maharashtra</td>\n",
       "      <td>India</td>\n",
       "      <td>32.315419</td>\n",
       "    </tr>\n",
       "    <tr>\n",
       "      <th>7</th>\n",
       "      <td>2019-02-08 17:30:00</td>\n",
       "      <td>2019-02-07 13:44:00</td>\n",
       "      <td>Expect a meltdown in Congress before election....</td>\n",
       "      <td>Congress</td>\n",
       "      <td>1.0</td>\n",
       "      <td>11.0</td>\n",
       "      <td>203.0</td>\n",
       "      <td>1</td>\n",
       "      <td>203</td>\n",
       "      <td>0.0000</td>\n",
       "      <td>NaN</td>\n",
       "      <td>NaN</td>\n",
       "      <td>NaN</td>\n",
       "      <td>India</td>\n",
       "      <td>10.332122</td>\n",
       "    </tr>\n",
       "  </tbody>\n",
       "</table>\n",
       "</div>"
      ],
      "text/plain": [
       "          last_updated           created_at  \\\n",
       "1  2019-02-08 17:29:00  2019-02-07 05:10:00   \n",
       "4  2019-02-08 17:30:00  2019-02-08 14:19:00   \n",
       "5  2019-02-08 17:30:00  2019-02-08 15:13:00   \n",
       "6  2019-02-08 17:30:00  2019-02-08 09:16:00   \n",
       "7  2019-02-08 17:30:00  2019-02-07 13:44:00   \n",
       "\n",
       "                                           full_text     Party  quote_count  \\\n",
       "1  Congress made Vemula national talking point ev...       BJP         47.0   \n",
       "4  Senior Congress leader @ManishTewari : There w...  Congress          0.0   \n",
       "5  Is it b/c there are those in congress taking k...  Congress          0.0   \n",
       "6  #RahulLieCaught | EXCLUSIVE: Former Defence Se...  Congress         22.0   \n",
       "7  Expect a meltdown in Congress before election....  Congress          1.0   \n",
       "\n",
       "   reply_count  retweet_count  Importance  favorite_count  Compound  \\\n",
       "1         72.0         2353.0           1            2353   -0.5719   \n",
       "4          1.0          159.0           1             159    0.0000   \n",
       "5          2.0           34.0           0              34    0.0000   \n",
       "6         34.0          680.0           1             680   -0.2960   \n",
       "7         11.0          203.0           1             203    0.0000   \n",
       "\n",
       "         hashtags user_mentions_screen_name        State Country       Score  \n",
       "1             NaN                       NaN  Maharashtra   India  108.990410  \n",
       "4             NaN              ManishTewari        Delhi   India    8.263217  \n",
       "5             NaN                       NaN          NaN   India    1.563270  \n",
       "6  RahulLieCaught                       NaN  Maharashtra   India   32.315419  \n",
       "7             NaN                       NaN          NaN   India   10.332122  "
      ]
     },
     "execution_count": 75,
     "metadata": {},
     "output_type": "execute_result"
    }
   ],
   "source": [
    "hate1.head()"
   ]
  },
  {
   "cell_type": "code",
   "execution_count": 108,
   "id": "35ad1df4-f5c7-47ee-afa4-0b026279a9ef",
   "metadata": {
    "scrolled": true
   },
   "outputs": [
    {
     "name": "stderr",
     "output_type": "stream",
     "text": [
      "C:\\Users\\HP\\AppData\\Local\\Temp\\ipykernel_16376\\377262796.py:1: SettingWithCopyWarning: \n",
      "A value is trying to be set on a copy of a slice from a DataFrame\n",
      "\n",
      "See the caveats in the documentation: https://pandas.pydata.org/pandas-docs/stable/user_guide/indexing.html#returning-a-view-versus-a-copy\n",
      "  hate1.fillna(0,inplace=True)\n"
     ]
    }
   ],
   "source": [
    "hate1.fillna(0,inplace=True)"
   ]
  },
  {
   "cell_type": "code",
   "execution_count": 115,
   "id": "caa79322-c5a9-4d88-8fba-59d00c32daae",
   "metadata": {},
   "outputs": [
    {
     "data": {
      "text/html": [
       "<div>\n",
       "<style scoped>\n",
       "    .dataframe tbody tr th:only-of-type {\n",
       "        vertical-align: middle;\n",
       "    }\n",
       "\n",
       "    .dataframe tbody tr th {\n",
       "        vertical-align: top;\n",
       "    }\n",
       "\n",
       "    .dataframe thead th {\n",
       "        text-align: right;\n",
       "    }\n",
       "</style>\n",
       "<table border=\"1\" class=\"dataframe\">\n",
       "  <thead>\n",
       "    <tr style=\"text-align: right;\">\n",
       "      <th></th>\n",
       "      <th>last_updated</th>\n",
       "      <th>created_at</th>\n",
       "      <th>full_text</th>\n",
       "      <th>Party</th>\n",
       "      <th>quote_count</th>\n",
       "      <th>reply_count</th>\n",
       "      <th>retweet_count</th>\n",
       "      <th>Importance</th>\n",
       "      <th>favorite_count</th>\n",
       "      <th>Compound</th>\n",
       "      <th>hashtags</th>\n",
       "      <th>user_mentions_screen_name</th>\n",
       "      <th>State</th>\n",
       "      <th>Country</th>\n",
       "      <th>Score</th>\n",
       "    </tr>\n",
       "  </thead>\n",
       "  <tbody>\n",
       "    <tr>\n",
       "      <th>1</th>\n",
       "      <td>2019-02-08 17:29:00</td>\n",
       "      <td>2019-02-07 05:10:00</td>\n",
       "      <td>Congress made Vemula national talking point ev...</td>\n",
       "      <td>BJP</td>\n",
       "      <td>47.0</td>\n",
       "      <td>72.0</td>\n",
       "      <td>2353.0</td>\n",
       "      <td>1</td>\n",
       "      <td>2353</td>\n",
       "      <td>-0.5719</td>\n",
       "      <td>0</td>\n",
       "      <td>0</td>\n",
       "      <td>Maharashtra</td>\n",
       "      <td>India</td>\n",
       "      <td>108.990410</td>\n",
       "    </tr>\n",
       "    <tr>\n",
       "      <th>4</th>\n",
       "      <td>2019-02-08 17:30:00</td>\n",
       "      <td>2019-02-08 14:19:00</td>\n",
       "      <td>Senior Congress leader @ManishTewari : There w...</td>\n",
       "      <td>Congress</td>\n",
       "      <td>0.0</td>\n",
       "      <td>1.0</td>\n",
       "      <td>159.0</td>\n",
       "      <td>1</td>\n",
       "      <td>159</td>\n",
       "      <td>0.0000</td>\n",
       "      <td>0</td>\n",
       "      <td>ManishTewari</td>\n",
       "      <td>Delhi</td>\n",
       "      <td>India</td>\n",
       "      <td>8.263217</td>\n",
       "    </tr>\n",
       "    <tr>\n",
       "      <th>5</th>\n",
       "      <td>2019-02-08 17:30:00</td>\n",
       "      <td>2019-02-08 15:13:00</td>\n",
       "      <td>Is it b/c there are those in congress taking k...</td>\n",
       "      <td>Congress</td>\n",
       "      <td>0.0</td>\n",
       "      <td>2.0</td>\n",
       "      <td>34.0</td>\n",
       "      <td>0</td>\n",
       "      <td>34</td>\n",
       "      <td>0.0000</td>\n",
       "      <td>0</td>\n",
       "      <td>0</td>\n",
       "      <td>0</td>\n",
       "      <td>India</td>\n",
       "      <td>1.563270</td>\n",
       "    </tr>\n",
       "    <tr>\n",
       "      <th>6</th>\n",
       "      <td>2019-02-08 17:30:00</td>\n",
       "      <td>2019-02-08 09:16:00</td>\n",
       "      <td>#RahulLieCaught | EXCLUSIVE: Former Defence Se...</td>\n",
       "      <td>Congress</td>\n",
       "      <td>22.0</td>\n",
       "      <td>34.0</td>\n",
       "      <td>680.0</td>\n",
       "      <td>1</td>\n",
       "      <td>680</td>\n",
       "      <td>-0.2960</td>\n",
       "      <td>RahulLieCaught</td>\n",
       "      <td>0</td>\n",
       "      <td>Maharashtra</td>\n",
       "      <td>India</td>\n",
       "      <td>32.315419</td>\n",
       "    </tr>\n",
       "    <tr>\n",
       "      <th>7</th>\n",
       "      <td>2019-02-08 17:30:00</td>\n",
       "      <td>2019-02-07 13:44:00</td>\n",
       "      <td>Expect a meltdown in Congress before election....</td>\n",
       "      <td>Congress</td>\n",
       "      <td>1.0</td>\n",
       "      <td>11.0</td>\n",
       "      <td>203.0</td>\n",
       "      <td>1</td>\n",
       "      <td>203</td>\n",
       "      <td>0.0000</td>\n",
       "      <td>0</td>\n",
       "      <td>0</td>\n",
       "      <td>0</td>\n",
       "      <td>India</td>\n",
       "      <td>10.332122</td>\n",
       "    </tr>\n",
       "  </tbody>\n",
       "</table>\n",
       "</div>"
      ],
      "text/plain": [
       "          last_updated           created_at  \\\n",
       "1  2019-02-08 17:29:00  2019-02-07 05:10:00   \n",
       "4  2019-02-08 17:30:00  2019-02-08 14:19:00   \n",
       "5  2019-02-08 17:30:00  2019-02-08 15:13:00   \n",
       "6  2019-02-08 17:30:00  2019-02-08 09:16:00   \n",
       "7  2019-02-08 17:30:00  2019-02-07 13:44:00   \n",
       "\n",
       "                                           full_text     Party  quote_count  \\\n",
       "1  Congress made Vemula national talking point ev...       BJP         47.0   \n",
       "4  Senior Congress leader @ManishTewari : There w...  Congress          0.0   \n",
       "5  Is it b/c there are those in congress taking k...  Congress          0.0   \n",
       "6  #RahulLieCaught | EXCLUSIVE: Former Defence Se...  Congress         22.0   \n",
       "7  Expect a meltdown in Congress before election....  Congress          1.0   \n",
       "\n",
       "   reply_count  retweet_count  Importance  favorite_count  Compound  \\\n",
       "1         72.0         2353.0           1            2353   -0.5719   \n",
       "4          1.0          159.0           1             159    0.0000   \n",
       "5          2.0           34.0           0              34    0.0000   \n",
       "6         34.0          680.0           1             680   -0.2960   \n",
       "7         11.0          203.0           1             203    0.0000   \n",
       "\n",
       "         hashtags user_mentions_screen_name        State Country       Score  \n",
       "1               0                         0  Maharashtra   India  108.990410  \n",
       "4               0              ManishTewari        Delhi   India    8.263217  \n",
       "5               0                         0            0   India    1.563270  \n",
       "6  RahulLieCaught                         0  Maharashtra   India   32.315419  \n",
       "7               0                         0            0   India   10.332122  "
      ]
     },
     "execution_count": 115,
     "metadata": {},
     "output_type": "execute_result"
    }
   ],
   "source": [
    "hate1.head()"
   ]
  },
  {
   "cell_type": "code",
   "execution_count": 109,
   "id": "b577a414-0bf7-4d02-8832-a54f8e40e965",
   "metadata": {},
   "outputs": [],
   "source": [
    "hashtags=hate1[hate1['hashtags']!=0]"
   ]
  },
  {
   "cell_type": "code",
   "execution_count": 114,
   "id": "6ed775ce-1f30-4f26-bfcd-c58d6d1c632c",
   "metadata": {},
   "outputs": [
    {
     "data": {
      "text/plain": [
       "(5049, 15)"
      ]
     },
     "execution_count": 114,
     "metadata": {},
     "output_type": "execute_result"
    }
   ],
   "source": [
    "hashtags.shape"
   ]
  },
  {
   "cell_type": "code",
   "execution_count": 168,
   "id": "ec3e26bd-440a-42a2-a5a7-a2d164abc255",
   "metadata": {},
   "outputs": [
    {
     "data": {
      "text/html": [
       "<div>\n",
       "<style scoped>\n",
       "    .dataframe tbody tr th:only-of-type {\n",
       "        vertical-align: middle;\n",
       "    }\n",
       "\n",
       "    .dataframe tbody tr th {\n",
       "        vertical-align: top;\n",
       "    }\n",
       "\n",
       "    .dataframe thead th {\n",
       "        text-align: right;\n",
       "    }\n",
       "</style>\n",
       "<table border=\"1\" class=\"dataframe\">\n",
       "  <thead>\n",
       "    <tr style=\"text-align: right;\">\n",
       "      <th></th>\n",
       "      <th>count</th>\n",
       "    </tr>\n",
       "    <tr>\n",
       "      <th>Party</th>\n",
       "      <th></th>\n",
       "    </tr>\n",
       "  </thead>\n",
       "  <tbody>\n",
       "    <tr>\n",
       "      <th>BJP</th>\n",
       "      <td>13509</td>\n",
       "    </tr>\n",
       "    <tr>\n",
       "      <th>Congress</th>\n",
       "      <td>8732</td>\n",
       "    </tr>\n",
       "    <tr>\n",
       "      <th>Other</th>\n",
       "      <td>2189</td>\n",
       "    </tr>\n",
       "  </tbody>\n",
       "</table>\n",
       "</div>"
      ],
      "text/plain": [
       "          count\n",
       "Party          \n",
       "BJP       13509\n",
       "Congress   8732\n",
       "Other      2189"
      ]
     },
     "execution_count": 168,
     "metadata": {},
     "output_type": "execute_result"
    }
   ],
   "source": [
    "party=pd.DataFrame(hate1['Party'].value_counts())\n",
    "party"
   ]
  },
  {
   "cell_type": "code",
   "execution_count": 159,
   "id": "cbc2690b-fabd-4d0d-80a5-86caf90afc1d",
   "metadata": {},
   "outputs": [],
   "source": [
    "y=np.array(party['count'])\n",
    "x=['BJP','Congress','Other']"
   ]
  },
  {
   "cell_type": "code",
   "execution_count": 165,
   "id": "c68e1791-3f5a-45a5-b7e7-3035e83629d2",
   "metadata": {},
   "outputs": [
    {
     "data": {
      "image/png": "[encoded data removed]",
      "text/plain": [
       "<Figure size 640x480 with 1 Axes>"
      ]
     },
     "metadata": {},
     "output_type": "display_data"
    }
   ],
   "source": [
    "plt.pie(y,labels=x,autopct='%1.1f%%')\n",
    "plt.show()"
   ]
  },
  {
   "cell_type": "markdown",
   "id": "556711a0-7125-4e0d-aa87-5671c9427380",
   "metadata": {},
   "source": [
    "* only negative count"
   ]
  },
  {
   "cell_type": "code",
   "execution_count": 170,
   "id": "492a6bd9-f48f-40e9-9228-58e3a67deda4",
   "metadata": {},
   "outputs": [
    {
     "data": {
      "text/html": [
       "<div>\n",
       "<style scoped>\n",
       "    .dataframe tbody tr th:only-of-type {\n",
       "        vertical-align: middle;\n",
       "    }\n",
       "\n",
       "    .dataframe tbody tr th {\n",
       "        vertical-align: top;\n",
       "    }\n",
       "\n",
       "    .dataframe thead th {\n",
       "        text-align: right;\n",
       "    }\n",
       "</style>\n",
       "<table border=\"1\" class=\"dataframe\">\n",
       "  <thead>\n",
       "    <tr style=\"text-align: right;\">\n",
       "      <th></th>\n",
       "      <th>last_updated</th>\n",
       "      <th>created_at</th>\n",
       "      <th>full_text</th>\n",
       "      <th>Party</th>\n",
       "      <th>quote_count</th>\n",
       "      <th>reply_count</th>\n",
       "      <th>retweet_count</th>\n",
       "      <th>Importance</th>\n",
       "      <th>favorite_count</th>\n",
       "      <th>Compound</th>\n",
       "      <th>hashtags</th>\n",
       "      <th>user_mentions_screen_name</th>\n",
       "      <th>State</th>\n",
       "      <th>Country</th>\n",
       "      <th>Score</th>\n",
       "    </tr>\n",
       "  </thead>\n",
       "  <tbody>\n",
       "    <tr>\n",
       "      <th>1</th>\n",
       "      <td>2019-02-08 17:29:00</td>\n",
       "      <td>2019-02-07 05:10:00</td>\n",
       "      <td>Congress made Vemula national talking point ev...</td>\n",
       "      <td>BJP</td>\n",
       "      <td>47.0</td>\n",
       "      <td>72.0</td>\n",
       "      <td>2353.0</td>\n",
       "      <td>1</td>\n",
       "      <td>2353</td>\n",
       "      <td>-0.5719</td>\n",
       "      <td>0</td>\n",
       "      <td>0</td>\n",
       "      <td>Maharashtra</td>\n",
       "      <td>India</td>\n",
       "      <td>108.990410</td>\n",
       "    </tr>\n",
       "    <tr>\n",
       "      <th>6</th>\n",
       "      <td>2019-02-08 17:30:00</td>\n",
       "      <td>2019-02-08 09:16:00</td>\n",
       "      <td>#RahulLieCaught | EXCLUSIVE: Former Defence Se...</td>\n",
       "      <td>Congress</td>\n",
       "      <td>22.0</td>\n",
       "      <td>34.0</td>\n",
       "      <td>680.0</td>\n",
       "      <td>1</td>\n",
       "      <td>680</td>\n",
       "      <td>-0.2960</td>\n",
       "      <td>RahulLieCaught</td>\n",
       "      <td>0</td>\n",
       "      <td>Maharashtra</td>\n",
       "      <td>India</td>\n",
       "      <td>32.315419</td>\n",
       "    </tr>\n",
       "    <tr>\n",
       "      <th>8</th>\n",
       "      <td>2019-02-08 17:30:00</td>\n",
       "      <td>2019-02-08 16:30:00</td>\n",
       "      <td>These stories really exposes our development p...</td>\n",
       "      <td>BJP</td>\n",
       "      <td>1.0</td>\n",
       "      <td>0.0</td>\n",
       "      <td>10.0</td>\n",
       "      <td>0</td>\n",
       "      <td>10</td>\n",
       "      <td>-0.2500</td>\n",
       "      <td>0</td>\n",
       "      <td>0</td>\n",
       "      <td>0</td>\n",
       "      <td>India</td>\n",
       "      <td>0.460270</td>\n",
       "    </tr>\n",
       "    <tr>\n",
       "      <th>9</th>\n",
       "      <td>2019-02-08 17:30:00</td>\n",
       "      <td>2019-02-08 08:57:00</td>\n",
       "      <td>If there is no issue or problem, why is Parrik...</td>\n",
       "      <td>BJP</td>\n",
       "      <td>3.0</td>\n",
       "      <td>3.0</td>\n",
       "      <td>123.0</td>\n",
       "      <td>1</td>\n",
       "      <td>123</td>\n",
       "      <td>-0.4019</td>\n",
       "      <td>0</td>\n",
       "      <td>0</td>\n",
       "      <td>Delhi</td>\n",
       "      <td>India</td>\n",
       "      <td>6.642802</td>\n",
       "    </tr>\n",
       "    <tr>\n",
       "      <th>17</th>\n",
       "      <td>2019-02-08 17:30:00</td>\n",
       "      <td>2019-02-07 16:14:00</td>\n",
       "      <td>Prime Minister Shri @narendramodi today expose...</td>\n",
       "      <td>BJP</td>\n",
       "      <td>52.0</td>\n",
       "      <td>295.0</td>\n",
       "      <td>10761.0</td>\n",
       "      <td>1</td>\n",
       "      <td>10761</td>\n",
       "      <td>-0.4767</td>\n",
       "      <td>0</td>\n",
       "      <td>narendramodi</td>\n",
       "      <td>0</td>\n",
       "      <td>India</td>\n",
       "      <td>494.056771</td>\n",
       "    </tr>\n",
       "    <tr>\n",
       "      <th>...</th>\n",
       "      <td>...</td>\n",
       "      <td>...</td>\n",
       "      <td>...</td>\n",
       "      <td>...</td>\n",
       "      <td>...</td>\n",
       "      <td>...</td>\n",
       "      <td>...</td>\n",
       "      <td>...</td>\n",
       "      <td>...</td>\n",
       "      <td>...</td>\n",
       "      <td>...</td>\n",
       "      <td>...</td>\n",
       "      <td>...</td>\n",
       "      <td>...</td>\n",
       "      <td>...</td>\n",
       "    </tr>\n",
       "    <tr>\n",
       "      <th>39862</th>\n",
       "      <td>2019-05-16 18:28:00</td>\n",
       "      <td>2019-05-16 15:27:00</td>\n",
       "      <td>.@fayedsouza to BJP's @ShainaNC: You've refuse...</td>\n",
       "      <td>BJP</td>\n",
       "      <td>1.0</td>\n",
       "      <td>3.0</td>\n",
       "      <td>18.0</td>\n",
       "      <td>0</td>\n",
       "      <td>18</td>\n",
       "      <td>-0.7184</td>\n",
       "      <td>0</td>\n",
       "      <td>fayedsouza,ShainaNC</td>\n",
       "      <td>0</td>\n",
       "      <td>India</td>\n",
       "      <td>0.842442</td>\n",
       "    </tr>\n",
       "    <tr>\n",
       "      <th>39865</th>\n",
       "      <td>2019-05-16 18:28:00</td>\n",
       "      <td>2019-05-16 11:48:00</td>\n",
       "      <td>@chitrapadhi Paper thin skin of BJP leaders......</td>\n",
       "      <td>BJP</td>\n",
       "      <td>0.0</td>\n",
       "      <td>0.0</td>\n",
       "      <td>3.0</td>\n",
       "      <td>0</td>\n",
       "      <td>3</td>\n",
       "      <td>-0.5653</td>\n",
       "      <td>0</td>\n",
       "      <td>chitrapadhi</td>\n",
       "      <td>Delhi</td>\n",
       "      <td>India</td>\n",
       "      <td>0.136935</td>\n",
       "    </tr>\n",
       "    <tr>\n",
       "      <th>39868</th>\n",
       "      <td>2019-05-16 18:28:00</td>\n",
       "      <td>2019-05-16 11:43:00</td>\n",
       "      <td>This is way way way more important than what h...</td>\n",
       "      <td>Congress</td>\n",
       "      <td>0.0</td>\n",
       "      <td>0.0</td>\n",
       "      <td>10.0</td>\n",
       "      <td>0</td>\n",
       "      <td>10</td>\n",
       "      <td>-0.8271</td>\n",
       "      <td>0</td>\n",
       "      <td>0</td>\n",
       "      <td>0</td>\n",
       "      <td>India</td>\n",
       "      <td>0.456449</td>\n",
       "    </tr>\n",
       "    <tr>\n",
       "      <th>39869</th>\n",
       "      <td>2019-05-16 18:29:00</td>\n",
       "      <td>2019-05-16 14:55:00</td>\n",
       "      <td>A web page dedicated to tracking Rahul Gandhi'...</td>\n",
       "      <td>Congress</td>\n",
       "      <td>0.0</td>\n",
       "      <td>1.0</td>\n",
       "      <td>18.0</td>\n",
       "      <td>0</td>\n",
       "      <td>18</td>\n",
       "      <td>-0.3887</td>\n",
       "      <td>0</td>\n",
       "      <td>0</td>\n",
       "      <td>0</td>\n",
       "      <td>India</td>\n",
       "      <td>0.827280</td>\n",
       "    </tr>\n",
       "    <tr>\n",
       "      <th>39870</th>\n",
       "      <td>2019-05-16 18:29:00</td>\n",
       "      <td>2019-05-15 13:15:00</td>\n",
       "      <td>Itâ€™s time to end the forever wars. But in th...</td>\n",
       "      <td>Congress</td>\n",
       "      <td>156.0</td>\n",
       "      <td>318.0</td>\n",
       "      <td>16017.0</td>\n",
       "      <td>1</td>\n",
       "      <td>16017</td>\n",
       "      <td>-0.8779</td>\n",
       "      <td>0</td>\n",
       "      <td>0</td>\n",
       "      <td>0</td>\n",
       "      <td>India</td>\n",
       "      <td>734.494352</td>\n",
       "    </tr>\n",
       "  </tbody>\n",
       "</table>\n",
       "<p>14119 rows × 15 columns</p>\n",
       "</div>"
      ],
      "text/plain": [
       "              last_updated           created_at  \\\n",
       "1      2019-02-08 17:29:00  2019-02-07 05:10:00   \n",
       "6      2019-02-08 17:30:00  2019-02-08 09:16:00   \n",
       "8      2019-02-08 17:30:00  2019-02-08 16:30:00   \n",
       "9      2019-02-08 17:30:00  2019-02-08 08:57:00   \n",
       "17     2019-02-08 17:30:00  2019-02-07 16:14:00   \n",
       "...                    ...                  ...   \n",
       "39862  2019-05-16 18:28:00  2019-05-16 15:27:00   \n",
       "39865  2019-05-16 18:28:00  2019-05-16 11:48:00   \n",
       "39868  2019-05-16 18:28:00  2019-05-16 11:43:00   \n",
       "39869  2019-05-16 18:29:00  2019-05-16 14:55:00   \n",
       "39870  2019-05-16 18:29:00  2019-05-15 13:15:00   \n",
       "\n",
       "                                               full_text     Party  \\\n",
       "1      Congress made Vemula national talking point ev...       BJP   \n",
       "6      #RahulLieCaught | EXCLUSIVE: Former Defence Se...  Congress   \n",
       "8      These stories really exposes our development p...       BJP   \n",
       "9      If there is no issue or problem, why is Parrik...       BJP   \n",
       "17     Prime Minister Shri @narendramodi today expose...       BJP   \n",
       "...                                                  ...       ...   \n",
       "39862  .@fayedsouza to BJP's @ShainaNC: You've refuse...       BJP   \n",
       "39865  @chitrapadhi Paper thin skin of BJP leaders......       BJP   \n",
       "39868  This is way way way more important than what h...  Congress   \n",
       "39869  A web page dedicated to tracking Rahul Gandhi'...  Congress   \n",
       "39870  Itâ€™s time to end the forever wars. But in th...  Congress   \n",
       "\n",
       "       quote_count  reply_count  retweet_count  Importance  favorite_count  \\\n",
       "1             47.0         72.0         2353.0           1            2353   \n",
       "6             22.0         34.0          680.0           1             680   \n",
       "8              1.0          0.0           10.0           0              10   \n",
       "9              3.0          3.0          123.0           1             123   \n",
       "17            52.0        295.0        10761.0           1           10761   \n",
       "...            ...          ...            ...         ...             ...   \n",
       "39862          1.0          3.0           18.0           0              18   \n",
       "39865          0.0          0.0            3.0           0               3   \n",
       "39868          0.0          0.0           10.0           0              10   \n",
       "39869          0.0          1.0           18.0           0              18   \n",
       "39870        156.0        318.0        16017.0           1           16017   \n",
       "\n",
       "       Compound        hashtags user_mentions_screen_name        State  \\\n",
       "1       -0.5719               0                         0  Maharashtra   \n",
       "6       -0.2960  RahulLieCaught                         0  Maharashtra   \n",
       "8       -0.2500               0                         0            0   \n",
       "9       -0.4019               0                         0        Delhi   \n",
       "17      -0.4767               0              narendramodi            0   \n",
       "...         ...             ...                       ...          ...   \n",
       "39862   -0.7184               0       fayedsouza,ShainaNC            0   \n",
       "39865   -0.5653               0               chitrapadhi        Delhi   \n",
       "39868   -0.8271               0                         0            0   \n",
       "39869   -0.3887               0                         0            0   \n",
       "39870   -0.8779               0                         0            0   \n",
       "\n",
       "      Country       Score  \n",
       "1       India  108.990410  \n",
       "6       India   32.315419  \n",
       "8       India    0.460270  \n",
       "9       India    6.642802  \n",
       "17      India  494.056771  \n",
       "...       ...         ...  \n",
       "39862   India    0.842442  \n",
       "39865   India    0.136935  \n",
       "39868   India    0.456449  \n",
       "39869   India    0.827280  \n",
       "39870   India  734.494352  \n",
       "\n",
       "[14119 rows x 15 columns]"
      ]
     },
     "execution_count": 170,
     "metadata": {},
     "output_type": "execute_result"
    }
   ],
   "source": [
    "negative = hate1[hate1['Compound']<0]\n",
    "negative"
   ]
  },
  {
   "cell_type": "code",
   "execution_count": 171,
   "id": "7ae4c7cb-0b28-4b07-8054-202b1427e97d",
   "metadata": {},
   "outputs": [],
   "source": [
    "negative_sentences = negative['full_text']"
   ]
  },
  {
   "cell_type": "code",
   "execution_count": null,
   "id": "207010be-af66-4705-81fe-b03506e05156",
   "metadata": {},
   "outputs": [],
   "source": []
  },
  {
   "cell_type": "code",
   "execution_count": 181,
   "id": "38ac3fa5-0a5f-49a7-b7d8-c92495e06a82",
   "metadata": {},
   "outputs": [
    {
     "data": {
      "text/html": [
       "<div>\n",
       "<style scoped>\n",
       "    .dataframe tbody tr th:only-of-type {\n",
       "        vertical-align: middle;\n",
       "    }\n",
       "\n",
       "    .dataframe tbody tr th {\n",
       "        vertical-align: top;\n",
       "    }\n",
       "\n",
       "    .dataframe thead th {\n",
       "        text-align: right;\n",
       "    }\n",
       "</style>\n",
       "<table border=\"1\" class=\"dataframe\">\n",
       "  <thead>\n",
       "    <tr style=\"text-align: right;\">\n",
       "      <th></th>\n",
       "      <th>0</th>\n",
       "    </tr>\n",
       "  </thead>\n",
       "  <tbody>\n",
       "    <tr>\n",
       "      <th>0</th>\n",
       "      <td>Congress made Vemula national talking point ev...</td>\n",
       "    </tr>\n",
       "    <tr>\n",
       "      <th>1</th>\n",
       "      <td>#RahulLieCaught | EXCLUSIVE: Former Defence Se...</td>\n",
       "    </tr>\n",
       "    <tr>\n",
       "      <th>2</th>\n",
       "      <td>These stories really exposes our development p...</td>\n",
       "    </tr>\n",
       "    <tr>\n",
       "      <th>3</th>\n",
       "      <td>If there is no issue or problem, why is Parrik...</td>\n",
       "    </tr>\n",
       "    <tr>\n",
       "      <th>4</th>\n",
       "      <td>Prime Minister Shri @narendramodi today expose...</td>\n",
       "    </tr>\n",
       "    <tr>\n",
       "      <th>...</th>\n",
       "      <td>...</td>\n",
       "    </tr>\n",
       "    <tr>\n",
       "      <th>14114</th>\n",
       "      <td>.@fayedsouza to BJP's @ShainaNC: You've refuse...</td>\n",
       "    </tr>\n",
       "    <tr>\n",
       "      <th>14115</th>\n",
       "      <td>@chitrapadhi Paper thin skin of BJP leaders......</td>\n",
       "    </tr>\n",
       "    <tr>\n",
       "      <th>14116</th>\n",
       "      <td>This is way way way more important than what h...</td>\n",
       "    </tr>\n",
       "    <tr>\n",
       "      <th>14117</th>\n",
       "      <td>A web page dedicated to tracking Rahul Gandhi'...</td>\n",
       "    </tr>\n",
       "    <tr>\n",
       "      <th>14118</th>\n",
       "      <td>Itâ€™s time to end the forever wars. But in th...</td>\n",
       "    </tr>\n",
       "  </tbody>\n",
       "</table>\n",
       "<p>14119 rows × 1 columns</p>\n",
       "</div>"
      ],
      "text/plain": [
       "                                                       0\n",
       "0      Congress made Vemula national talking point ev...\n",
       "1      #RahulLieCaught | EXCLUSIVE: Former Defence Se...\n",
       "2      These stories really exposes our development p...\n",
       "3      If there is no issue or problem, why is Parrik...\n",
       "4      Prime Minister Shri @narendramodi today expose...\n",
       "...                                                  ...\n",
       "14114  .@fayedsouza to BJP's @ShainaNC: You've refuse...\n",
       "14115  @chitrapadhi Paper thin skin of BJP leaders......\n",
       "14116  This is way way way more important than what h...\n",
       "14117  A web page dedicated to tracking Rahul Gandhi'...\n",
       "14118  Itâ€™s time to end the forever wars. But in th...\n",
       "\n",
       "[14119 rows x 1 columns]"
      ]
     },
     "execution_count": 181,
     "metadata": {},
     "output_type": "execute_result"
    }
   ],
   "source": [
    "negative_sentences=pd.DataFrame(negative_sentences)\n",
    "negative_sentences"
   ]
  },
  {
   "cell_type": "code",
   "execution_count": 182,
   "id": "997b543c-9417-4de6-ba0c-47d09b784a9f",
   "metadata": {},
   "outputs": [
    {
     "data": {
      "text/plain": [
       "14119"
      ]
     },
     "execution_count": 182,
     "metadata": {},
     "output_type": "execute_result"
    }
   ],
   "source": [
    "len(negative_sentences)"
   ]
  },
  {
   "cell_type": "code",
   "execution_count": 183,
   "id": "edd0cfc6-9ec4-44a0-b77f-2a69e62acd5b",
   "metadata": {},
   "outputs": [],
   "source": [
    "negative_sentences.to_csv('./hate_sentences.csv')"
   ]
  },
  {
   "cell_type": "code",
   "execution_count": null,
   "id": "59d62d18-e15b-47f7-8364-c158ac10c657",
   "metadata": {},
   "outputs": [],
   "source": []
  }
 ],
 "metadata": {
  "kernelspec": {
   "display_name": "Python 3 (ipykernel)",
   "language": "python",
   "name": "python3"
  },
  "language_info": {
   "codemirror_mode": {
    "name": "ipython",
    "version": 3
   },
   "file_extension": ".py",
   "mimetype": "text/x-python",
   "name": "python",
   "nbconvert_exporter": "python",
   "pygments_lexer": "ipython3",
   "version": "3.10.13"
  }
 },
 "nbformat": 4,
 "nbformat_minor": 5
}
